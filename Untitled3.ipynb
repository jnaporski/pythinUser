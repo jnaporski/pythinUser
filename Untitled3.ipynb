{
  "nbformat": 4,
  "nbformat_minor": 0,
  "metadata": {
    "colab": {
      "name": "Untitled3.ipynb",
      "provenance": [],
      "collapsed_sections": [],
      "authorship_tag": "ABX9TyO5AlQkmGaF2btenseuG6Gh",
      "include_colab_link": true
    },
    "kernelspec": {
      "name": "python3",
      "display_name": "Python 3"
    }
  },
  "cells": [
    {
      "cell_type": "markdown",
      "metadata": {
        "id": "view-in-github",
        "colab_type": "text"
      },
      "source": [
        "<a href=\"https://colab.research.google.com/github/jnaporski/pythinUser/blob/master/Untitled3.ipynb\" target=\"_parent\"><img src=\"https://colab.research.google.com/assets/colab-badge.svg\" alt=\"Open In Colab\"/></a>"
      ]
    },
    {
      "cell_type": "code",
      "metadata": {
        "id": "tKcm-x8WRMRv",
        "outputId": "02cc528f-a38f-4db0-e03e-7068f10ddb03",
        "colab": {
          "base_uri": "https://localhost:8080/",
          "height": 391
        }
      },
      "source": [
        "peeps =[]\n",
        "i = 0\n",
        "while (i <= 9 ):\n",
        "    entered = (input(\"what is your name?  \"))\n",
        "    peeps.append(entered) \n",
        "    i += 1\n",
        "    print(entered + \" Was Added\")\n",
        "else:\n",
        "      print(\"list is full\")\n",
        "      print(peeps)"
      ],
      "execution_count": 1,
      "outputs": [
        {
          "output_type": "stream",
          "text": [
            "what is your name?  t\n",
            "t Was Added\n",
            "what is your name?  \n",
            " Was Added\n",
            "what is your name?  \n",
            " Was Added\n",
            "what is your name?  t\n",
            "t Was Added\n",
            "what is your name?  \n",
            " Was Added\n",
            "what is your name?  \n",
            " Was Added\n",
            "what is your name?  t\n",
            "t Was Added\n",
            "what is your name?  t\n",
            "t Was Added\n",
            "what is your name?  \n",
            " Was Added\n",
            "what is your name?  \n",
            " Was Added\n",
            "list is full\n",
            "['t', '', '', 't', '', '', 't', 't', '', '']\n"
          ],
          "name": "stdout"
        }
      ]
    }
  ]
}